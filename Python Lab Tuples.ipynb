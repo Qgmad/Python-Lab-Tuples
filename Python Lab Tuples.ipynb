{
 "cells": [
  {
   "cell_type": "code",
   "execution_count": 1,
   "metadata": {},
   "outputs": [
    {
     "name": "stdout",
     "output_type": "stream",
     "text": [
      "(1, 'a', 'b', True, False, 6.009)\n"
     ]
    }
   ],
   "source": [
    "#Create Tuple with different data type\n",
    "a=(1,\"a\",\"b\",True,False,6.009)\n",
    "print(a)"
   ]
  },
  {
   "cell_type": "code",
   "execution_count": 2,
   "metadata": {},
   "outputs": [
    {
     "name": "stdout",
     "output_type": "stream",
     "text": [
      "a\n"
     ]
    }
   ],
   "source": [
    "#Create tuple and print 1 item\n",
    "a=(1,\"a\",\"b\",True,False,6.009)\n",
    "print(a[1])"
   ]
  },
  {
   "cell_type": "code",
   "execution_count": 3,
   "metadata": {},
   "outputs": [
    {
     "name": "stdout",
     "output_type": "stream",
     "text": [
      "(4, 8, 3)\n",
      "15\n"
     ]
    }
   ],
   "source": [
    "#Create and Unpack a tuple in variables\n",
    "tuplex = 4,8,3\n",
    "print(tuplex)\n",
    "n1,n2,n3 = tuplex\n",
    "print(n1 + n2 + n3)"
   ]
  },
  {
   "cell_type": "code",
   "execution_count": 4,
   "metadata": {},
   "outputs": [
    {
     "name": "stdout",
     "output_type": "stream",
     "text": [
      "(1, 2, 3, 4, 5, 6, 7, 8, 3)\n"
     ]
    }
   ],
   "source": [
    "#Add item in tuple\n",
    "a=(1,2,3,4,5,6,7,8)\n",
    "lst=list(a)\n",
    "lst.append(3)\n",
    "a=tuple(lst)\n",
    "print(a)"
   ]
  },
  {
   "cell_type": "code",
   "execution_count": 5,
   "metadata": {},
   "outputs": [
    {
     "name": "stdout",
     "output_type": "stream",
     "text": [
      "bcdfghj\n"
     ]
    }
   ],
   "source": [
    "#Convert tuple to string\n",
    "a=('b','c','d','f','g','h','j')\n",
    "str=\"\".join(a)\n",
    "print(str)"
   ]
  },
  {
   "cell_type": "code",
   "execution_count": 6,
   "metadata": {},
   "outputs": [
    {
     "name": "stdout",
     "output_type": "stream",
     "text": [
      "ff\n"
     ]
    }
   ],
   "source": [
    "#Print 4th and last 4th element from tuple\n",
    "a=('b','c','d','f','g','h','j')\n",
    "print(a[3]+a[-4])"
   ]
  },
  {
   "cell_type": "code",
   "execution_count": 7,
   "metadata": {},
   "outputs": [
    {
     "name": "stdout",
     "output_type": "stream",
     "text": [
      "(2, 2, 5, 2, 7, 2, 6, 8)\n"
     ]
    }
   ],
   "source": [
    "#Clone a Tuple\n",
    "from copy import deepcopy\n",
    "x=(2,2,5,2,7,2,6,8)\n",
    "y=deepcopy(x)\n",
    "print(y)"
   ]
  },
  {
   "cell_type": "code",
   "execution_count": 8,
   "metadata": {},
   "outputs": [
    {
     "name": "stdout",
     "output_type": "stream",
     "text": [
      "4 is the repeated item in tuple\n",
      "4 is the repeated item in tuple\n",
      "4 is the repeated item in tuple\n",
      "4 is the repeated item in tuple\n"
     ]
    }
   ],
   "source": [
    "#Find repeated item in tuple\n",
    "tup=(1,2,3,4,4,4,4,4)\n",
    "a=list(tup)\n",
    "for i in range(len(a)-1):\n",
    "    if a[i]==a[i+1]:\n",
    "        print(a[i], 'is the repeated item in tuple')"
   ]
  },
  {
   "cell_type": "code",
   "execution_count": 9,
   "metadata": {},
   "outputs": [
    {
     "name": "stdout",
     "output_type": "stream",
     "text": [
      "Enter item to check for existence: 5\n",
      "5 is not in the tuple\n"
     ]
    }
   ],
   "source": [
    "#Check existence of item in tuple\n",
    "inp=input('Enter item to check for existence: ')\n",
    "tup=('a','b','c','d','e')\n",
    "a=list(tup)\n",
    "if inp in tup:\n",
    "    print(inp, 'is in the tuple')\n",
    "else:\n",
    "    print(inp, 'is not in the tuple')"
   ]
  },
  {
   "cell_type": "code",
   "execution_count": 10,
   "metadata": {},
   "outputs": [
    {
     "name": "stdout",
     "output_type": "stream",
     "text": [
      "('a', 'b', 'c', 'd', 'e')\n"
     ]
    }
   ],
   "source": [
    "#Convert list to tuple\n",
    "tup=['a','b','c','d','e']\n",
    "a=tuple(tup)\n",
    "print(a)"
   ]
  },
  {
   "cell_type": "code",
   "execution_count": 11,
   "metadata": {},
   "outputs": [
    {
     "name": "stdout",
     "output_type": "stream",
     "text": [
      "('a', 'c', 'd', 'e')\n"
     ]
    }
   ],
   "source": [
    "#Remove Item from tuple\n",
    "tup=('a','b','c','d','e')\n",
    "a=list(tup)\n",
    "a.remove('b')\n",
    "a=tuple(a)\n",
    "print(a)"
   ]
  },
  {
   "cell_type": "code",
   "execution_count": null,
   "metadata": {},
   "outputs": [],
   "source": []
  }
 ],
 "metadata": {
  "kernelspec": {
   "display_name": "Python 3",
   "language": "python",
   "name": "python3"
  },
  "language_info": {
   "codemirror_mode": {
    "name": "ipython",
    "version": 3
   },
   "file_extension": ".py",
   "mimetype": "text/x-python",
   "name": "python",
   "nbconvert_exporter": "python",
   "pygments_lexer": "ipython3",
   "version": "3.7.6"
  }
 },
 "nbformat": 4,
 "nbformat_minor": 4
}
